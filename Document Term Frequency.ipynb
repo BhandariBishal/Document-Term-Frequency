{
 "cells": [
  {
   "cell_type": "markdown",
   "metadata": {},
   "source": [
    "## Binary Term Frequencies"
   ]
  },
  {
   "cell_type": "code",
   "execution_count": 1,
   "metadata": {
    "scrolled": false
   },
   "outputs": [
    {
     "name": "stdout",
     "output_type": "stream",
     "text": [
      "['bad', 'bathroom', 'good', 'has', 'hotel', 'is', 'of', 'one', 'other', 'room', 'the']\n",
      "[[1 0 0 1 1 0 0 1 0 1 1]\n",
      " [1 0 0 0 1 1 1 0 0 1 1]\n",
      " [1 1 1 0 0 1 0 1 1 0 1]]\n"
     ]
    }
   ],
   "source": [
    "from sklearn.feature_extraction.text import CountVectorizer\n",
    "\n",
    "corpus = [  'the hotel has one bad room',\n",
    "            'the room of the hotel is bad',\n",
    "            'one bathroom is bad, the other bathroom is good', ]\n",
    "\n",
    "vectorizer = CountVectorizer(binary=True)\n",
    "X = vectorizer.fit_transform(corpus)\n",
    "print(vectorizer.get_feature_names())\n",
    "print(X.toarray())"
   ]
  },
  {
   "cell_type": "markdown",
   "metadata": {},
   "source": [
    "## Absolute  Term Frequencies"
   ]
  },
  {
   "cell_type": "code",
   "execution_count": 2,
   "metadata": {},
   "outputs": [
    {
     "name": "stdout",
     "output_type": "stream",
     "text": [
      "['explain', 'hard', 'has', 'is', 'jazz', 'music', 'natural', 'rhythm', 'swing', 'to']\n",
      "[[0 0 1 0 1 1 0 1 1 0]\n",
      " [1 1 0 1 0 0 0 0 1 1]\n",
      " [0 0 0 1 0 0 1 2 1 0]]\n"
     ]
    }
   ],
   "source": [
    "from sklearn.feature_extraction.text import CountVectorizer\n",
    "\n",
    "corpus = [ 'jazz music has a swing rhythm', \n",
    "           'swing is hard to explain',\n",
    "           'swing rhythm is a natural rhythm',]\n",
    "\n",
    "vectorizer = CountVectorizer(binary=False)\n",
    "X = vectorizer.fit_transform(corpus)\n",
    "print(vectorizer.get_feature_names())\n",
    "print(X.toarray())\n"
   ]
  },
  {
   "cell_type": "markdown",
   "metadata": {
    "collapsed": true
   },
   "source": [
    "## Absolute TF-IDF"
   ]
  },
  {
   "cell_type": "code",
   "execution_count": 2,
   "metadata": {},
   "outputs": [
    {
     "name": "stdout",
     "output_type": "stream",
     "text": [
      "['explain', 'hard', 'has', 'is', 'jazz', 'music', 'natural', 'rhythm', 'swing', 'to']\n",
      "  (0, 7)\t1.2876820724517808\n",
      "  (0, 8)\t1.0\n",
      "  (0, 2)\t1.6931471805599454\n",
      "  (0, 5)\t1.6931471805599454\n",
      "  (0, 4)\t1.6931471805599454\n",
      "  (1, 0)\t1.6931471805599454\n",
      "  (1, 9)\t1.6931471805599454\n",
      "  (1, 1)\t1.6931471805599454\n",
      "  (1, 3)\t1.2876820724517808\n",
      "  (1, 8)\t1.0\n",
      "  (2, 6)\t1.6931471805599454\n",
      "  (2, 3)\t1.2876820724517808\n",
      "  (2, 7)\t2.5753641449035616\n",
      "  (2, 8)\t1.0\n"
     ]
    }
   ],
   "source": [
    "from sklearn.feature_extraction.text import TfidfVectorizer\n",
    "corpus = [\n",
    "    'jazz music has a swing rhythm', \n",
    "    'swing is hard to explain',\n",
    "    'swing rhythm is a natural rhythm',\n",
    "]\n",
    "vectorizer = TfidfVectorizer(norm=None)\n",
    "X = vectorizer.fit_transform(corpus)\n",
    "print(vectorizer.get_feature_names())\n",
    "print(X)"
   ]
  },
  {
   "cell_type": "markdown",
   "metadata": {},
   "source": [
    "## Normalized TF-IDF"
   ]
  },
  {
   "cell_type": "code",
   "execution_count": 3,
   "metadata": {},
   "outputs": [
    {
     "name": "stdout",
     "output_type": "stream",
     "text": [
      "['explain', 'hard', 'has', 'is', 'jazz', 'music', 'natural', 'rhythm', 'swing', 'to']\n",
      "  (0, 7)\t0.17478762945985446\n",
      "  (0, 8)\t0.1357381866216823\n",
      "  (0, 2)\t0.22982472797282108\n",
      "  (0, 5)\t0.22982472797282108\n",
      "  (0, 4)\t0.22982472797282108\n",
      "  (1, 0)\t0.22982472797282108\n",
      "  (1, 9)\t0.22982472797282108\n",
      "  (1, 1)\t0.22982472797282108\n",
      "  (1, 3)\t0.17478762945985446\n",
      "  (1, 8)\t0.1357381866216823\n",
      "  (2, 6)\t0.2582515612029269\n",
      "  (2, 3)\t0.19640696884585998\n",
      "  (2, 7)\t0.39281393769171996\n",
      "  (2, 8)\t0.15252753225949314\n"
     ]
    }
   ],
   "source": [
    "from sklearn.feature_extraction.text import TfidfVectorizer\n",
    "corpus = [\n",
    "    'jazz music has a swing rhythm', \n",
    "    'swing is hard to explain',\n",
    "    'swing rhythm is a natural rhythm',\n",
    "]\n",
    "vectorizer = TfidfVectorizer(norm='l1')\n",
    "X = vectorizer.fit_transform(corpus)\n",
    "print(vectorizer.get_feature_names())\n",
    "print(X)"
   ]
  },
  {
   "cell_type": "markdown",
   "metadata": {},
   "source": [
    "#### Print the full matrix"
   ]
  },
  {
   "cell_type": "code",
   "execution_count": 4,
   "metadata": {
    "scrolled": true
   },
   "outputs": [
    {
     "name": "stdout",
     "output_type": "stream",
     "text": [
      "                                   explain      hard       has        is  \\\n",
      "jazz music has a swing rhythm     0.000000  0.000000  0.229825  0.000000   \n",
      "swing is hard to explain          0.229825  0.229825  0.000000  0.174788   \n",
      "swing rhythm is a natural rhythm  0.000000  0.000000  0.000000  0.196407   \n",
      "\n",
      "                                      jazz     music   natural    rhythm  \\\n",
      "jazz music has a swing rhythm     0.229825  0.229825  0.000000  0.174788   \n",
      "swing is hard to explain          0.000000  0.000000  0.000000  0.000000   \n",
      "swing rhythm is a natural rhythm  0.000000  0.000000  0.258252  0.392814   \n",
      "\n",
      "                                     swing        to  \n",
      "jazz music has a swing rhythm     0.135738  0.000000  \n",
      "swing is hard to explain          0.135738  0.229825  \n",
      "swing rhythm is a natural rhythm  0.152528  0.000000  \n"
     ]
    }
   ],
   "source": [
    "feature_names = vectorizer.get_feature_names()\n",
    "corpus_index = [n for n in corpus]\n",
    "import pandas as pd\n",
    "df = pd.DataFrame(X.todense(), index=corpus_index, columns=feature_names)\n",
    "print(df)"
   ]
  }
 ],
 "metadata": {
  "kernelspec": {
   "display_name": "Python 3",
   "language": "python",
   "name": "python3"
  },
  "language_info": {
   "codemirror_mode": {
    "name": "ipython",
    "version": 3
   },
   "file_extension": ".py",
   "mimetype": "text/x-python",
   "name": "python",
   "nbconvert_exporter": "python",
   "pygments_lexer": "ipython3",
   "version": "3.7.16"
  }
 },
 "nbformat": 4,
 "nbformat_minor": 2
}
